{
 "cells": [
  {
   "cell_type": "markdown",
   "metadata": {},
   "source": [
    "# CAR SALES ADVERTISEMENT APP DEVELOPMENT"
   ]
  },
  {
   "cell_type": "markdown",
   "metadata": {},
   "source": [
    "***"
   ]
  },
  {
   "cell_type": "markdown",
   "metadata": {},
   "source": [
    "#### Purpose of the project: To develop and deploy a web application about car sales advertisements to a cloud service so that it is accessible to the public.\n",
    "\n",
    "#### On this project I want to see some hypotesis:\n",
    "#### - if car price is determined by odometer, the most used cars are cheaper than newer ones.\n",
    "#### - if recent cars are lesser used than older cars.\n",
    "\n",
    "#### To achieve that and further analysis I will outline the following steps below in sequence."
   ]
  },
  {
   "cell_type": "markdown",
   "metadata": {},
   "source": [
    "***"
   ]
  },
  {
   "cell_type": "markdown",
   "metadata": {},
   "source": [
    "### 1. IMPORT THE DATA AND LIBRARY"
   ]
  },
  {
   "cell_type": "code",
   "execution_count": null,
   "metadata": {},
   "outputs": [
    {
     "ename": "",
     "evalue": "",
     "output_type": "error",
     "traceback": [
      "\u001b[1;31mRunning cells with '/Users/cesarchaparro/Documents/Sprint6pjt/.conda/bin/python' requires the ipykernel package.\n",
      "\u001b[1;31mRun the following command to install 'ipykernel' into the Python environment. \n",
      "\u001b[1;31mCommand: 'conda install -p /Users/cesarchaparro/Documents/Sprint6pjt/.conda ipykernel --update-deps --force-reinstall'"
     ]
    }
   ],
   "source": [
    "import pandas as pd\n",
    "import plotly.express as px\n",
    "import numpy as np\n"
   ]
  },
  {
   "cell_type": "code",
   "execution_count": null,
   "metadata": {},
   "outputs": [
    {
     "ename": "",
     "evalue": "",
     "output_type": "error",
     "traceback": [
      "\u001b[1;31mRunning cells with '/Users/cesarchaparro/Documents/Sprint6pjt/.conda/bin/python' requires the ipykernel package.\n",
      "\u001b[1;31mRun the following command to install 'ipykernel' into the Python environment. \n",
      "\u001b[1;31mCommand: 'conda install -p /Users/cesarchaparro/Documents/Sprint6pjt/.conda ipykernel --update-deps --force-reinstall'"
     ]
    }
   ],
   "source": [
    "df = pd.read_csv('vehicles_us.csv') #open the data set\n",
    "print(df)\n",
    "\n",
    "df.info()"
   ]
  },
  {
   "cell_type": "markdown",
   "metadata": {},
   "source": []
  },
  {
   "cell_type": "markdown",
   "metadata": {},
   "source": [
    "The first step I did is to import the necessary library and open the data file.\n",
    "The following steps will be dedicated to process the data, clean missing values, dupplicates and set the data frame for further analysis."
   ]
  },
  {
   "cell_type": "markdown",
   "metadata": {},
   "source": [
    "***"
   ]
  },
  {
   "cell_type": "markdown",
   "metadata": {},
   "source": [
    "### 2. PRE-PROCESSING DATA AND CLEANING"
   ]
  },
  {
   "cell_type": "code",
   "execution_count": null,
   "metadata": {},
   "outputs": [
    {
     "ename": "",
     "evalue": "",
     "output_type": "error",
     "traceback": [
      "\u001b[1;31mRunning cells with '/Users/cesarchaparro/Documents/Sprint6pjt/.conda/bin/python' requires the ipykernel package.\n",
      "\u001b[1;31mRun the following command to install 'ipykernel' into the Python environment. \n",
      "\u001b[1;31mCommand: 'conda install -p /Users/cesarchaparro/Documents/Sprint6pjt/.conda ipykernel --update-deps --force-reinstall'"
     ]
    }
   ],
   "source": [
    "print (df['model_year'].isna().sum()) #to identify missing values"
   ]
  },
  {
   "cell_type": "code",
   "execution_count": null,
   "metadata": {},
   "outputs": [
    {
     "ename": "",
     "evalue": "",
     "output_type": "error",
     "traceback": [
      "\u001b[1;31mRunning cells with '/Users/cesarchaparro/Documents/Sprint6pjt/.conda/bin/python' requires the ipykernel package.\n",
      "\u001b[1;31mRun the following command to install 'ipykernel' into the Python environment. \n",
      "\u001b[1;31mCommand: 'conda install -p /Users/cesarchaparro/Documents/Sprint6pjt/.conda ipykernel --update-deps --force-reinstall'"
     ]
    }
   ],
   "source": [
    "df['cylinders'].fillna(0) #to identify missing values"
   ]
  },
  {
   "cell_type": "code",
   "execution_count": null,
   "metadata": {},
   "outputs": [
    {
     "ename": "",
     "evalue": "",
     "output_type": "error",
     "traceback": [
      "\u001b[1;31mRunning cells with '/Users/cesarchaparro/Documents/Sprint6pjt/.conda/bin/python' requires the ipykernel package.\n",
      "\u001b[1;31mRun the following command to install 'ipykernel' into the Python environment. \n",
      "\u001b[1;31mCommand: 'conda install -p /Users/cesarchaparro/Documents/Sprint6pjt/.conda ipykernel --update-deps --force-reinstall'"
     ]
    }
   ],
   "source": [
    "df.info() #to display what columns have missing values"
   ]
  },
  {
   "cell_type": "markdown",
   "metadata": {},
   "source": [
    "From the above is obvious that there are missing values on some of the columns. Which will be treated separately on the following code lines.\n",
    "- model_year\n",
    "- cylinders\n",
    "- odometer\n",
    "- paint_color\n",
    "- is_4wd"
   ]
  },
  {
   "cell_type": "code",
   "execution_count": null,
   "metadata": {},
   "outputs": [
    {
     "ename": "",
     "evalue": "",
     "output_type": "error",
     "traceback": [
      "\u001b[1;31mRunning cells with '/Users/cesarchaparro/Documents/Sprint6pjt/.conda/bin/python' requires the ipykernel package.\n",
      "\u001b[1;31mRun the following command to install 'ipykernel' into the Python environment. \n",
      "\u001b[1;31mCommand: 'conda install -p /Users/cesarchaparro/Documents/Sprint6pjt/.conda ipykernel --update-deps --force-reinstall'"
     ]
    }
   ],
   "source": [
    "print (df['cylinders'].isna().sum()) #to display missing values"
   ]
  },
  {
   "cell_type": "code",
   "execution_count": null,
   "metadata": {},
   "outputs": [
    {
     "ename": "",
     "evalue": "",
     "output_type": "error",
     "traceback": [
      "\u001b[1;31mRunning cells with '/Users/cesarchaparro/Documents/Sprint6pjt/.conda/bin/python' requires the ipykernel package.\n",
      "\u001b[1;31mRun the following command to install 'ipykernel' into the Python environment. \n",
      "\u001b[1;31mCommand: 'conda install -p /Users/cesarchaparro/Documents/Sprint6pjt/.conda ipykernel --update-deps --force-reinstall'"
     ]
    }
   ],
   "source": [
    "df['cylinders'].fillna(0) #to fill missing values with value 0\n"
   ]
  },
  {
   "cell_type": "code",
   "execution_count": null,
   "metadata": {},
   "outputs": [
    {
     "ename": "",
     "evalue": "",
     "output_type": "error",
     "traceback": [
      "\u001b[1;31mRunning cells with '/Users/cesarchaparro/Documents/Sprint6pjt/.conda/bin/python' requires the ipykernel package.\n",
      "\u001b[1;31mRun the following command to install 'ipykernel' into the Python environment. \n",
      "\u001b[1;31mCommand: 'conda install -p /Users/cesarchaparro/Documents/Sprint6pjt/.conda ipykernel --update-deps --force-reinstall'"
     ]
    }
   ],
   "source": [
    "print(df['cylinders'].isna().sum()) #total of filled values"
   ]
  },
  {
   "cell_type": "code",
   "execution_count": null,
   "metadata": {},
   "outputs": [
    {
     "ename": "",
     "evalue": "",
     "output_type": "error",
     "traceback": [
      "\u001b[1;31mRunning cells with '/Users/cesarchaparro/Documents/Sprint6pjt/.conda/bin/python' requires the ipykernel package.\n",
      "\u001b[1;31mRun the following command to install 'ipykernel' into the Python environment. \n",
      "\u001b[1;31mCommand: 'conda install -p /Users/cesarchaparro/Documents/Sprint6pjt/.conda ipykernel --update-deps --force-reinstall'"
     ]
    }
   ],
   "source": [
    "print(df['cylinders']) #to display that the columns is now clean of missing values"
   ]
  },
  {
   "cell_type": "code",
   "execution_count": null,
   "metadata": {},
   "outputs": [
    {
     "ename": "",
     "evalue": "",
     "output_type": "error",
     "traceback": [
      "\u001b[1;31mRunning cells with '/Users/cesarchaparro/Documents/Sprint6pjt/.conda/bin/python' requires the ipykernel package.\n",
      "\u001b[1;31mRun the following command to install 'ipykernel' into the Python environment. \n",
      "\u001b[1;31mCommand: 'conda install -p /Users/cesarchaparro/Documents/Sprint6pjt/.conda ipykernel --update-deps --force-reinstall'"
     ]
    }
   ],
   "source": [
    "display(df.isnull().sum()) # to display rest of columns with missing values"
   ]
  },
  {
   "cell_type": "code",
   "execution_count": null,
   "metadata": {},
   "outputs": [
    {
     "ename": "",
     "evalue": "",
     "output_type": "error",
     "traceback": [
      "\u001b[1;31mRunning cells with '/Users/cesarchaparro/Documents/Sprint6pjt/.conda/bin/python' requires the ipykernel package.\n",
      "\u001b[1;31mRun the following command to install 'ipykernel' into the Python environment. \n",
      "\u001b[1;31mCommand: 'conda install -p /Users/cesarchaparro/Documents/Sprint6pjt/.conda ipykernel --update-deps --force-reinstall'"
     ]
    }
   ],
   "source": [
    "df.columns #to display if there are typos or other errors on column titles"
   ]
  },
  {
   "cell_type": "markdown",
   "metadata": {},
   "source": [
    "I am checking that the titles of the columns are clean or need to be clean, in this case the titles are clean."
   ]
  },
  {
   "cell_type": "code",
   "execution_count": null,
   "metadata": {},
   "outputs": [
    {
     "ename": "",
     "evalue": "",
     "output_type": "error",
     "traceback": [
      "\u001b[1;31mRunning cells with '/Users/cesarchaparro/Documents/Sprint6pjt/.conda/bin/python' requires the ipykernel package.\n",
      "\u001b[1;31mRun the following command to install 'ipykernel' into the Python environment. \n",
      "\u001b[1;31mCommand: 'conda install -p /Users/cesarchaparro/Documents/Sprint6pjt/.conda ipykernel --update-deps --force-reinstall'"
     ]
    }
   ],
   "source": [
    "df[df.model_year.isnull()==True] #to display missing values in column model_year\n"
   ]
  },
  {
   "cell_type": "code",
   "execution_count": null,
   "metadata": {},
   "outputs": [
    {
     "ename": "",
     "evalue": "",
     "output_type": "error",
     "traceback": [
      "\u001b[1;31mRunning cells with '/Users/cesarchaparro/Documents/Sprint6pjt/.conda/bin/python' requires the ipykernel package.\n",
      "\u001b[1;31mRun the following command to install 'ipykernel' into the Python environment. \n",
      "\u001b[1;31mCommand: 'conda install -p /Users/cesarchaparro/Documents/Sprint6pjt/.conda ipykernel --update-deps --force-reinstall'"
     ]
    }
   ],
   "source": [
    "columns_to_replace = ['model_year', 'cylinders', 'odometer', 'paint_color', 'is_4wd'] #select columns to modify\n",
    "for col in columns_to_replace:\n",
    "    df[col] = df[col].fillna('unknown') #replace missing values with 'unkown'\n",
    "    print(df)"
   ]
  },
  {
   "cell_type": "code",
   "execution_count": null,
   "metadata": {},
   "outputs": [
    {
     "ename": "",
     "evalue": "",
     "output_type": "error",
     "traceback": [
      "\u001b[1;31mRunning cells with '/Users/cesarchaparro/Documents/Sprint6pjt/.conda/bin/python' requires the ipykernel package.\n",
      "\u001b[1;31mRun the following command to install 'ipykernel' into the Python environment. \n",
      "\u001b[1;31mCommand: 'conda install -p /Users/cesarchaparro/Documents/Sprint6pjt/.conda ipykernel --update-deps --force-reinstall'"
     ]
    }
   ],
   "source": [
    "df.isnull().sum() #display of missing values after processing\n"
   ]
  },
  {
   "cell_type": "markdown",
   "metadata": {},
   "source": [
    "The missing values on the columns have been cleaned."
   ]
  },
  {
   "cell_type": "code",
   "execution_count": null,
   "metadata": {},
   "outputs": [
    {
     "ename": "",
     "evalue": "",
     "output_type": "error",
     "traceback": [
      "\u001b[1;31mRunning cells with '/Users/cesarchaparro/Documents/Sprint6pjt/.conda/bin/python' requires the ipykernel package.\n",
      "\u001b[1;31mRun the following command to install 'ipykernel' into the Python environment. \n",
      "\u001b[1;31mCommand: 'conda install -p /Users/cesarchaparro/Documents/Sprint6pjt/.conda ipykernel --update-deps --force-reinstall'"
     ]
    }
   ],
   "source": [
    "df.duplicated() #checking for dupplicates on the data frame\n"
   ]
  },
  {
   "cell_type": "code",
   "execution_count": null,
   "metadata": {},
   "outputs": [
    {
     "ename": "",
     "evalue": "",
     "output_type": "error",
     "traceback": [
      "\u001b[1;31mRunning cells with '/Users/cesarchaparro/Documents/Sprint6pjt/.conda/bin/python' requires the ipykernel package.\n",
      "\u001b[1;31mRun the following command to install 'ipykernel' into the Python environment. \n",
      "\u001b[1;31mCommand: 'conda install -p /Users/cesarchaparro/Documents/Sprint6pjt/.conda ipykernel --update-deps --force-reinstall'"
     ]
    }
   ],
   "source": [
    "df[df.duplicated()] #checking for dupplicates on the titles\n"
   ]
  },
  {
   "cell_type": "code",
   "execution_count": null,
   "metadata": {},
   "outputs": [
    {
     "ename": "",
     "evalue": "",
     "output_type": "error",
     "traceback": [
      "\u001b[1;31mRunning cells with '/Users/cesarchaparro/Documents/Sprint6pjt/.conda/bin/python' requires the ipykernel package.\n",
      "\u001b[1;31mRun the following command to install 'ipykernel' into the Python environment. \n",
      "\u001b[1;31mCommand: 'conda install -p /Users/cesarchaparro/Documents/Sprint6pjt/.conda ipykernel --update-deps --force-reinstall'"
     ]
    }
   ],
   "source": [
    "df.duplicated().sum() #result of dupplicates\n"
   ]
  },
  {
   "cell_type": "markdown",
   "metadata": {},
   "source": [
    "There are no dupplicate values on the data frame."
   ]
  },
  {
   "cell_type": "code",
   "execution_count": null,
   "metadata": {},
   "outputs": [
    {
     "ename": "",
     "evalue": "",
     "output_type": "error",
     "traceback": [
      "\u001b[1;31mRunning cells with '/Users/cesarchaparro/Documents/Sprint6pjt/.conda/bin/python' requires the ipykernel package.\n",
      "\u001b[1;31mRun the following command to install 'ipykernel' into the Python environment. \n",
      "\u001b[1;31mCommand: 'conda install -p /Users/cesarchaparro/Documents/Sprint6pjt/.conda ipykernel --update-deps --force-reinstall'"
     ]
    }
   ],
   "source": [
    "df.model.nunique() #checking if there are hidden dupplicates\n"
   ]
  },
  {
   "cell_type": "markdown",
   "metadata": {},
   "source": [
    "On the next steps I am checking for non-obvious dupplicates on some columns, checking if there are variations on same model or brand of car, etc."
   ]
  },
  {
   "cell_type": "code",
   "execution_count": null,
   "metadata": {},
   "outputs": [
    {
     "ename": "",
     "evalue": "",
     "output_type": "error",
     "traceback": [
      "\u001b[1;31mRunning cells with '/Users/cesarchaparro/Documents/Sprint6pjt/.conda/bin/python' requires the ipykernel package.\n",
      "\u001b[1;31mRun the following command to install 'ipykernel' into the Python environment. \n",
      "\u001b[1;31mCommand: 'conda install -p /Users/cesarchaparro/Documents/Sprint6pjt/.conda ipykernel --update-deps --force-reinstall'"
     ]
    }
   ],
   "source": [
    "df.model.unique() #checking for hidden dupplicates on column 'model'\n"
   ]
  },
  {
   "cell_type": "code",
   "execution_count": null,
   "metadata": {},
   "outputs": [
    {
     "ename": "",
     "evalue": "",
     "output_type": "error",
     "traceback": [
      "\u001b[1;31mRunning cells with '/Users/cesarchaparro/Documents/Sprint6pjt/.conda/bin/python' requires the ipykernel package.\n",
      "\u001b[1;31mRun the following command to install 'ipykernel' into the Python environment. \n",
      "\u001b[1;31mCommand: 'conda install -p /Users/cesarchaparro/Documents/Sprint6pjt/.conda ipykernel --update-deps --force-reinstall'"
     ]
    }
   ],
   "source": [
    "sorted(df.model.unique()) #to scroll for dupplicates on the 'model' column\n"
   ]
  },
  {
   "cell_type": "code",
   "execution_count": null,
   "metadata": {},
   "outputs": [
    {
     "ename": "",
     "evalue": "",
     "output_type": "error",
     "traceback": [
      "\u001b[1;31mRunning cells with '/Users/cesarchaparro/Documents/Sprint6pjt/.conda/bin/python' requires the ipykernel package.\n",
      "\u001b[1;31mRun the following command to install 'ipykernel' into the Python environment. \n",
      "\u001b[1;31mCommand: 'conda install -p /Users/cesarchaparro/Documents/Sprint6pjt/.conda ipykernel --update-deps --force-reinstall'"
     ]
    }
   ],
   "source": [
    "df.condition.unique() #checking for dupplicates on 'condition' column\n"
   ]
  },
  {
   "cell_type": "code",
   "execution_count": null,
   "metadata": {},
   "outputs": [
    {
     "ename": "",
     "evalue": "",
     "output_type": "error",
     "traceback": [
      "\u001b[1;31mRunning cells with '/Users/cesarchaparro/Documents/Sprint6pjt/.conda/bin/python' requires the ipykernel package.\n",
      "\u001b[1;31mRun the following command to install 'ipykernel' into the Python environment. \n",
      "\u001b[1;31mCommand: 'conda install -p /Users/cesarchaparro/Documents/Sprint6pjt/.conda ipykernel --update-deps --force-reinstall'"
     ]
    }
   ],
   "source": [
    "df.type.unique() #checking for dupplicates on 'type' column\n"
   ]
  },
  {
   "cell_type": "code",
   "execution_count": null,
   "metadata": {},
   "outputs": [
    {
     "ename": "",
     "evalue": "",
     "output_type": "error",
     "traceback": [
      "\u001b[1;31mRunning cells with '/Users/cesarchaparro/Documents/Sprint6pjt/.conda/bin/python' requires the ipykernel package.\n",
      "\u001b[1;31mRun the following command to install 'ipykernel' into the Python environment. \n",
      "\u001b[1;31mCommand: 'conda install -p /Users/cesarchaparro/Documents/Sprint6pjt/.conda ipykernel --update-deps --force-reinstall'"
     ]
    }
   ],
   "source": [
    "df.paint_color.unique() #checking for dupplicates onn 'paint_color' column\n"
   ]
  },
  {
   "cell_type": "code",
   "execution_count": null,
   "metadata": {},
   "outputs": [
    {
     "ename": "",
     "evalue": "",
     "output_type": "error",
     "traceback": [
      "\u001b[1;31mRunning cells with '/Users/cesarchaparro/Documents/Sprint6pjt/.conda/bin/python' requires the ipykernel package.\n",
      "\u001b[1;31mRun the following command to install 'ipykernel' into the Python environment. \n",
      "\u001b[1;31mCommand: 'conda install -p /Users/cesarchaparro/Documents/Sprint6pjt/.conda ipykernel --update-deps --force-reinstall'"
     ]
    }
   ],
   "source": [
    "df.fuel.unique() #checking for dupplicates on 'fuel' column\n"
   ]
  },
  {
   "cell_type": "code",
   "execution_count": null,
   "metadata": {},
   "outputs": [
    {
     "ename": "",
     "evalue": "",
     "output_type": "error",
     "traceback": [
      "\u001b[1;31mRunning cells with '/Users/cesarchaparro/Documents/Sprint6pjt/.conda/bin/python' requires the ipykernel package.\n",
      "\u001b[1;31mRun the following command to install 'ipykernel' into the Python environment. \n",
      "\u001b[1;31mCommand: 'conda install -p /Users/cesarchaparro/Documents/Sprint6pjt/.conda ipykernel --update-deps --force-reinstall'"
     ]
    }
   ],
   "source": [
    "df.transmission.unique() #checking for dupplicates on 'transmission' column\n"
   ]
  },
  {
   "cell_type": "markdown",
   "metadata": {},
   "source": [
    "From the above steps I can deduce that there are defenitely no dupplicate values and the data frame is cleaned in regards to this factor so I can proceed with the analysys."
   ]
  },
  {
   "cell_type": "code",
   "execution_count": null,
   "metadata": {},
   "outputs": [
    {
     "ename": "",
     "evalue": "",
     "output_type": "error",
     "traceback": [
      "\u001b[1;31mRunning cells with '/Users/cesarchaparro/Documents/Sprint6pjt/.conda/bin/python' requires the ipykernel package.\n",
      "\u001b[1;31mRun the following command to install 'ipykernel' into the Python environment. \n",
      "\u001b[1;31mCommand: 'conda install -p /Users/cesarchaparro/Documents/Sprint6pjt/.conda ipykernel --update-deps --force-reinstall'"
     ]
    }
   ],
   "source": [
    "df.info() #to display the result of fixing dupplicates and missing values\n"
   ]
  },
  {
   "cell_type": "code",
   "execution_count": null,
   "metadata": {},
   "outputs": [
    {
     "ename": "",
     "evalue": "",
     "output_type": "error",
     "traceback": [
      "\u001b[1;31mRunning cells with '/Users/cesarchaparro/Documents/Sprint6pjt/.conda/bin/python' requires the ipykernel package.\n",
      "\u001b[1;31mRun the following command to install 'ipykernel' into the Python environment. \n",
      "\u001b[1;31mCommand: 'conda install -p /Users/cesarchaparro/Documents/Sprint6pjt/.conda ipykernel --update-deps --force-reinstall'"
     ]
    }
   ],
   "source": [
    "print(df.model_year.to_string(index=False)) #to clean the column of 'model_year' from trailing zeros and decimals"
   ]
  },
  {
   "cell_type": "code",
   "execution_count": null,
   "metadata": {},
   "outputs": [
    {
     "ename": "",
     "evalue": "",
     "output_type": "error",
     "traceback": [
      "\u001b[1;31mRunning cells with '/Users/cesarchaparro/Documents/Sprint6pjt/.conda/bin/python' requires the ipykernel package.\n",
      "\u001b[1;31mRun the following command to install 'ipykernel' into the Python environment. \n",
      "\u001b[1;31mCommand: 'conda install -p /Users/cesarchaparro/Documents/Sprint6pjt/.conda ipykernel --update-deps --force-reinstall'"
     ]
    }
   ],
   "source": [
    "df['model_year'] = df['model_year'].replace('unknown', 0) #to replace string 'unkown' by int 0\n",
    "print(df['model_year'])"
   ]
  },
  {
   "cell_type": "code",
   "execution_count": null,
   "metadata": {},
   "outputs": [
    {
     "ename": "",
     "evalue": "",
     "output_type": "error",
     "traceback": [
      "\u001b[1;31mRunning cells with '/Users/cesarchaparro/Documents/Sprint6pjt/.conda/bin/python' requires the ipykernel package.\n",
      "\u001b[1;31mRun the following command to install 'ipykernel' into the Python environment. \n",
      "\u001b[1;31mCommand: 'conda install -p /Users/cesarchaparro/Documents/Sprint6pjt/.conda ipykernel --update-deps --force-reinstall'"
     ]
    }
   ],
   "source": [
    "df['model_year'] = df['model_year'].astype(int) #to check that all values are as integers to remove the trailing zeros and decimals\n",
    "print(df['model_year'])"
   ]
  },
  {
   "cell_type": "code",
   "execution_count": null,
   "metadata": {},
   "outputs": [
    {
     "ename": "",
     "evalue": "",
     "output_type": "error",
     "traceback": [
      "\u001b[1;31mRunning cells with '/Users/cesarchaparro/Documents/Sprint6pjt/.conda/bin/python' requires the ipykernel package.\n",
      "\u001b[1;31mRun the following command to install 'ipykernel' into the Python environment. \n",
      "\u001b[1;31mCommand: 'conda install -p /Users/cesarchaparro/Documents/Sprint6pjt/.conda ipykernel --update-deps --force-reinstall'"
     ]
    }
   ],
   "source": [
    "print(df.odometer.to_string(index=False)) #to replave string 'unkown' by 0\n"
   ]
  },
  {
   "cell_type": "code",
   "execution_count": null,
   "metadata": {},
   "outputs": [
    {
     "ename": "",
     "evalue": "",
     "output_type": "error",
     "traceback": [
      "\u001b[1;31mRunning cells with '/Users/cesarchaparro/Documents/Sprint6pjt/.conda/bin/python' requires the ipykernel package.\n",
      "\u001b[1;31mRun the following command to install 'ipykernel' into the Python environment. \n",
      "\u001b[1;31mCommand: 'conda install -p /Users/cesarchaparro/Documents/Sprint6pjt/.conda ipykernel --update-deps --force-reinstall'"
     ]
    }
   ],
   "source": [
    "df['odometer'] = df['odometer'].replace('unknown', 0) #to reaplace the missing values for 0\n",
    "print(df['odometer'])"
   ]
  },
  {
   "cell_type": "code",
   "execution_count": null,
   "metadata": {},
   "outputs": [
    {
     "ename": "",
     "evalue": "",
     "output_type": "error",
     "traceback": [
      "\u001b[1;31mRunning cells with '/Users/cesarchaparro/Documents/Sprint6pjt/.conda/bin/python' requires the ipykernel package.\n",
      "\u001b[1;31mRun the following command to install 'ipykernel' into the Python environment. \n",
      "\u001b[1;31mCommand: 'conda install -p /Users/cesarchaparro/Documents/Sprint6pjt/.conda ipykernel --update-deps --force-reinstall'"
     ]
    }
   ],
   "source": [
    "df['odometer'] = df['odometer'].astype(int) #to convert the column in integer in order to remove the trailing zeros and decimals\n",
    "print(df['odometer'])"
   ]
  },
  {
   "cell_type": "markdown",
   "metadata": {},
   "source": [
    "Now we can see above that the columsn have been clean and it shows the same values on all the columns.\n",
    "In short:\n",
    "- Missing values for some objects have been replaced by \"unkown\" values.\n",
    "- Missing values on cyclinders and odometer have been replaced by zeroes.\n",
    "- model_year format have been cleaned deleting the trailing zeroes from the year and de decimal.\n",
    "- odometer columns format have been cleaned deleting the trailing zeroes from the number of km and the decimal."
   ]
  },
  {
   "cell_type": "markdown",
   "metadata": {},
   "source": [
    "On the next steps I am going to work on the column 'price' to be able to use it as parameter for the analysis. in order to fo that I will delete the outliers values from the columns and I will keep the columns on some logical range of prices that I can use."
   ]
  },
  {
   "cell_type": "code",
   "execution_count": null,
   "metadata": {},
   "outputs": [
    {
     "ename": "",
     "evalue": "",
     "output_type": "error",
     "traceback": [
      "\u001b[1;31mRunning cells with '/Users/cesarchaparro/Documents/Sprint6pjt/.conda/bin/python' requires the ipykernel package.\n",
      "\u001b[1;31mRun the following command to install 'ipykernel' into the Python environment. \n",
      "\u001b[1;31mCommand: 'conda install -p /Users/cesarchaparro/Documents/Sprint6pjt/.conda ipykernel --update-deps --force-reinstall'"
     ]
    }
   ],
   "source": [
    "print(df['price'].value_counts()[1]) #to display outliers on the column\n"
   ]
  },
  {
   "cell_type": "markdown",
   "metadata": {},
   "source": [
    "From the above you can see there are 798 rows as outliers with value 1 'price'."
   ]
  },
  {
   "cell_type": "markdown",
   "metadata": {},
   "source": [
    "Next I will see what is the minimun and maximum price on the column."
   ]
  },
  {
   "cell_type": "code",
   "execution_count": null,
   "metadata": {},
   "outputs": [
    {
     "ename": "",
     "evalue": "",
     "output_type": "error",
     "traceback": [
      "\u001b[1;31mRunning cells with '/Users/cesarchaparro/Documents/Sprint6pjt/.conda/bin/python' requires the ipykernel package.\n",
      "\u001b[1;31mRun the following command to install 'ipykernel' into the Python environment. \n",
      "\u001b[1;31mCommand: 'conda install -p /Users/cesarchaparro/Documents/Sprint6pjt/.conda ipykernel --update-deps --force-reinstall'"
     ]
    }
   ],
   "source": [
    "print(df['price'].max()) #to display the maximum amount of price\n",
    "print(df['price'].min()) #to display the minimum amount of price\n"
   ]
  },
  {
   "cell_type": "code",
   "execution_count": null,
   "metadata": {},
   "outputs": [
    {
     "ename": "",
     "evalue": "",
     "output_type": "error",
     "traceback": [
      "\u001b[1;31mRunning cells with '/Users/cesarchaparro/Documents/Sprint6pjt/.conda/bin/python' requires the ipykernel package.\n",
      "\u001b[1;31mRun the following command to install 'ipykernel' into the Python environment. \n",
      "\u001b[1;31mCommand: 'conda install -p /Users/cesarchaparro/Documents/Sprint6pjt/.conda ipykernel --update-deps --force-reinstall'"
     ]
    }
   ],
   "source": [
    "df.sort_values(\"price\") #to sort the 'price' column in ascendent order\n"
   ]
  },
  {
   "cell_type": "code",
   "execution_count": null,
   "metadata": {},
   "outputs": [
    {
     "ename": "",
     "evalue": "",
     "output_type": "error",
     "traceback": [
      "\u001b[1;31mRunning cells with '/Users/cesarchaparro/Documents/Sprint6pjt/.conda/bin/python' requires the ipykernel package.\n",
      "\u001b[1;31mRun the following command to install 'ipykernel' into the Python environment. \n",
      "\u001b[1;31mCommand: 'conda install -p /Users/cesarchaparro/Documents/Sprint6pjt/.conda ipykernel --update-deps --force-reinstall'"
     ]
    }
   ],
   "source": [
    "df = df.drop(df[df['price'] == 1].index) #to display the result after removing the outliers, which shows more outliers\n",
    "print(df)\n"
   ]
  },
  {
   "cell_type": "markdown",
   "metadata": {},
   "source": [
    "Eventhough I got rid of the outliers with value 1, I can still see there are more, so I will take out all the values below 200 which is a price I can take as minimum for the analysis."
   ]
  },
  {
   "cell_type": "code",
   "execution_count": null,
   "metadata": {},
   "outputs": [
    {
     "ename": "",
     "evalue": "",
     "output_type": "error",
     "traceback": [
      "\u001b[1;31mRunning cells with '/Users/cesarchaparro/Documents/Sprint6pjt/.conda/bin/python' requires the ipykernel package.\n",
      "\u001b[1;31mRun the following command to install 'ipykernel' into the Python environment. \n",
      "\u001b[1;31mCommand: 'conda install -p /Users/cesarchaparro/Documents/Sprint6pjt/.conda ipykernel --update-deps --force-reinstall'"
     ]
    }
   ],
   "source": [
    "df.sort_values(\"price\") #to display the 'price' column in ascendent order to spot further outliers\n"
   ]
  },
  {
   "cell_type": "code",
   "execution_count": null,
   "metadata": {},
   "outputs": [
    {
     "ename": "",
     "evalue": "",
     "output_type": "error",
     "traceback": [
      "\u001b[1;31mRunning cells with '/Users/cesarchaparro/Documents/Sprint6pjt/.conda/bin/python' requires the ipykernel package.\n",
      "\u001b[1;31mRun the following command to install 'ipykernel' into the Python environment. \n",
      "\u001b[1;31mCommand: 'conda install -p /Users/cesarchaparro/Documents/Sprint6pjt/.conda ipykernel --update-deps --force-reinstall'"
     ]
    }
   ],
   "source": [
    "df = df.drop(df[df['price'] < 200].index) #to filter the 'price' column disregarding the outliers\n",
    "print(df)\n",
    "           "
   ]
  },
  {
   "cell_type": "code",
   "execution_count": null,
   "metadata": {},
   "outputs": [
    {
     "ename": "",
     "evalue": "",
     "output_type": "error",
     "traceback": [
      "\u001b[1;31mRunning cells with '/Users/cesarchaparro/Documents/Sprint6pjt/.conda/bin/python' requires the ipykernel package.\n",
      "\u001b[1;31mRun the following command to install 'ipykernel' into the Python environment. \n",
      "\u001b[1;31mCommand: 'conda install -p /Users/cesarchaparro/Documents/Sprint6pjt/.conda ipykernel --update-deps --force-reinstall'"
     ]
    }
   ],
   "source": [
    "df.sort_values(\"price\") #to sort the resulting process in ascending order\n"
   ]
  },
  {
   "cell_type": "markdown",
   "metadata": {},
   "source": [
    "Now we have a columns with cars with minimum price 200 to maximum price 375000."
   ]
  },
  {
   "cell_type": "markdown",
   "metadata": {},
   "source": [
    "***"
   ]
  },
  {
   "cell_type": "markdown",
   "metadata": {},
   "source": [
    "### 3. ANALYSYS OF DATA"
   ]
  },
  {
   "cell_type": "code",
   "execution_count": null,
   "metadata": {},
   "outputs": [
    {
     "ename": "",
     "evalue": "",
     "output_type": "error",
     "traceback": [
      "\u001b[1;31mRunning cells with '/Users/cesarchaparro/Documents/Sprint6pjt/.conda/bin/python' requires the ipykernel package.\n",
      "\u001b[1;31mRun the following command to install 'ipykernel' into the Python environment. \n",
      "\u001b[1;31mCommand: 'conda install -p /Users/cesarchaparro/Documents/Sprint6pjt/.conda ipykernel --update-deps --force-reinstall'"
     ]
    }
   ],
   "source": [
    "df.groupby(\"condition\").size() #to filter the data frame by 'condition' column\n"
   ]
  },
  {
   "cell_type": "markdown",
   "metadata": {},
   "source": [
    "Most of cars available to sell are in good and excellent condition."
   ]
  },
  {
   "cell_type": "markdown",
   "metadata": {},
   "source": [
    "Now I will explore with the model_year column to see if there are any meaning results comparing with prices and condition."
   ]
  },
  {
   "cell_type": "code",
   "execution_count": null,
   "metadata": {},
   "outputs": [
    {
     "ename": "",
     "evalue": "",
     "output_type": "error",
     "traceback": [
      "\u001b[1;31mRunning cells with '/Users/cesarchaparro/Documents/Sprint6pjt/.conda/bin/python' requires the ipykernel package.\n",
      "\u001b[1;31mRun the following command to install 'ipykernel' into the Python environment. \n",
      "\u001b[1;31mCommand: 'conda install -p /Users/cesarchaparro/Documents/Sprint6pjt/.conda ipykernel --update-deps --force-reinstall'"
     ]
    }
   ],
   "source": [
    "df.groupby(\"model_year\").size() #to filter the data frame by 'model_year' column\n"
   ]
  },
  {
   "cell_type": "markdown",
   "metadata": {},
   "source": [
    "I see there are outliers with model_year, there are models from more than 100 years ago, I will filter from 1970 and earlier to clean the column."
   ]
  },
  {
   "cell_type": "code",
   "execution_count": null,
   "metadata": {},
   "outputs": [
    {
     "ename": "",
     "evalue": "",
     "output_type": "error",
     "traceback": [
      "\u001b[1;31mRunning cells with '/Users/cesarchaparro/Documents/Sprint6pjt/.conda/bin/python' requires the ipykernel package.\n",
      "\u001b[1;31mRun the following command to install 'ipykernel' into the Python environment. \n",
      "\u001b[1;31mCommand: 'conda install -p /Users/cesarchaparro/Documents/Sprint6pjt/.conda ipykernel --update-deps --force-reinstall'"
     ]
    }
   ],
   "source": [
    "df_filtered = df[df['model_year'] >= 1970] #filter the 'model_year column to disregard outliers\n",
    "new_df = df_filtered\n",
    "print(new_df)\n"
   ]
  },
  {
   "cell_type": "markdown",
   "metadata": {},
   "source": [
    "FINAL DATA FRAME CLEAN"
   ]
  },
  {
   "cell_type": "code",
   "execution_count": null,
   "metadata": {},
   "outputs": [
    {
     "ename": "",
     "evalue": "",
     "output_type": "error",
     "traceback": [
      "\u001b[1;31mRunning cells with '/Users/cesarchaparro/Documents/Sprint6pjt/.conda/bin/python' requires the ipykernel package.\n",
      "\u001b[1;31mRun the following command to install 'ipykernel' into the Python environment. \n",
      "\u001b[1;31mCommand: 'conda install -p /Users/cesarchaparro/Documents/Sprint6pjt/.conda ipykernel --update-deps --force-reinstall'"
     ]
    }
   ],
   "source": [
    "print(new_df) #to display the clean data frame after processing\n"
   ]
  },
  {
   "cell_type": "markdown",
   "metadata": {},
   "source": [
    "***"
   ]
  },
  {
   "cell_type": "markdown",
   "metadata": {},
   "source": [
    "### 4. VISUALIZATIONS"
   ]
  },
  {
   "cell_type": "code",
   "execution_count": null,
   "metadata": {},
   "outputs": [
    {
     "ename": "",
     "evalue": "",
     "output_type": "error",
     "traceback": [
      "\u001b[1;31mRunning cells with '/Users/cesarchaparro/Documents/Sprint6pjt/.conda/bin/python' requires the ipykernel package.\n",
      "\u001b[1;31mRun the following command to install 'ipykernel' into the Python environment. \n",
      "\u001b[1;31mCommand: 'conda install -p /Users/cesarchaparro/Documents/Sprint6pjt/.conda ipykernel --update-deps --force-reinstall'"
     ]
    }
   ],
   "source": [
    "df_filtered = df[df['model_year'] >= 1960] #added a filter with models after 1960 only\n",
    "#scatter graph comparing amount of km. run for each car and price list\n",
    "fig3 = px.scatter(df_filtered, x='model_year', y='odometer', title=\"Comparison of model year (for 1960 and later cars) and odometer\")\n",
    "fig3.show()\n"
   ]
  },
  {
   "cell_type": "markdown",
   "metadata": {},
   "source": [
    "VISUALIZATION #1: From the visualization we can see that cars that are from 1990 to 2010 have the most amount of km run. The are most used than the rest."
   ]
  },
  {
   "cell_type": "code",
   "execution_count": null,
   "metadata": {},
   "outputs": [
    {
     "ename": "",
     "evalue": "",
     "output_type": "error",
     "traceback": [
      "\u001b[1;31mRunning cells with '/Users/cesarchaparro/Documents/Sprint6pjt/.conda/bin/python' requires the ipykernel package.\n",
      "\u001b[1;31mRun the following command to install 'ipykernel' into the Python environment. \n",
      "\u001b[1;31mCommand: 'conda install -p /Users/cesarchaparro/Documents/Sprint6pjt/.conda ipykernel --update-deps --force-reinstall'"
     ]
    }
   ],
   "source": [
    "df_type = df.groupby('type').size() #filter the data frame by 'type' of car\n",
    "print(df_type)\n"
   ]
  },
  {
   "cell_type": "markdown",
   "metadata": {},
   "source": [
    "Top 3 car types are: SUV, sedan and truck."
   ]
  },
  {
   "cell_type": "code",
   "execution_count": null,
   "metadata": {},
   "outputs": [
    {
     "ename": "",
     "evalue": "",
     "output_type": "error",
     "traceback": [
      "\u001b[1;31mRunning cells with '/Users/cesarchaparro/Documents/Sprint6pjt/.conda/bin/python' requires the ipykernel package.\n",
      "\u001b[1;31mRun the following command to install 'ipykernel' into the Python environment. \n",
      "\u001b[1;31mCommand: 'conda install -p /Users/cesarchaparro/Documents/Sprint6pjt/.conda ipykernel --update-deps --force-reinstall'"
     ]
    }
   ],
   "source": [
    "df_type = df.groupby('fuel').size() #filter the data frame by 'fuel' type for each car\n",
    "print(df_type)\n"
   ]
  },
  {
   "cell_type": "markdown",
   "metadata": {},
   "source": [
    "Top car fuel used is Gas."
   ]
  },
  {
   "cell_type": "code",
   "execution_count": null,
   "metadata": {},
   "outputs": [
    {
     "ename": "",
     "evalue": "",
     "output_type": "error",
     "traceback": [
      "\u001b[1;31mRunning cells with '/Users/cesarchaparro/Documents/Sprint6pjt/.conda/bin/python' requires the ipykernel package.\n",
      "\u001b[1;31mRun the following command to install 'ipykernel' into the Python environment. \n",
      "\u001b[1;31mCommand: 'conda install -p /Users/cesarchaparro/Documents/Sprint6pjt/.conda ipykernel --update-deps --force-reinstall'"
     ]
    }
   ],
   "source": [
    "df_type = df.groupby('odometer').size() #filter the data frame to display cars for each kilometrage done\n",
    "print(df_type)\n"
   ]
  },
  {
   "cell_type": "markdown",
   "metadata": {},
   "source": [
    "Majority of cars are km. 0"
   ]
  },
  {
   "cell_type": "code",
   "execution_count": null,
   "metadata": {},
   "outputs": [
    {
     "ename": "",
     "evalue": "",
     "output_type": "error",
     "traceback": [
      "\u001b[1;31mRunning cells with '/Users/cesarchaparro/Documents/Sprint6pjt/.conda/bin/python' requires the ipykernel package.\n",
      "\u001b[1;31mRun the following command to install 'ipykernel' into the Python environment. \n",
      "\u001b[1;31mCommand: 'conda install -p /Users/cesarchaparro/Documents/Sprint6pjt/.conda ipykernel --update-deps --force-reinstall'"
     ]
    }
   ],
   "source": [
    "df_type = df.groupby('transmission').size()\n",
    "print(df_type)\n"
   ]
  },
  {
   "cell_type": "code",
   "execution_count": null,
   "metadata": {},
   "outputs": [
    {
     "ename": "",
     "evalue": "",
     "output_type": "error",
     "traceback": [
      "\u001b[1;31mRunning cells with '/Users/cesarchaparro/Documents/Sprint6pjt/.conda/bin/python' requires the ipykernel package.\n",
      "\u001b[1;31mRun the following command to install 'ipykernel' into the Python environment. \n",
      "\u001b[1;31mCommand: 'conda install -p /Users/cesarchaparro/Documents/Sprint6pjt/.conda ipykernel --update-deps --force-reinstall'"
     ]
    }
   ],
   "source": [
    "# histogram by groups with different colors comparing 'type' of cars and 'condition' of the car\n",
    "fig = px.histogram(new_df, x=\"type\", color='condition') \n",
    "fig.show()"
   ]
  },
  {
   "cell_type": "markdown",
   "metadata": {},
   "source": [
    "VISUALIZATION #2: Histogram where you can see the distribution of types of cars depending on their condition. You can click on the colors you want, is a multiple selecion, to visualize the graph for those variables."
   ]
  },
  {
   "cell_type": "code",
   "execution_count": null,
   "metadata": {},
   "outputs": [
    {
     "ename": "",
     "evalue": "",
     "output_type": "error",
     "traceback": [
      "\u001b[1;31mRunning cells with '/Users/cesarchaparro/Documents/Sprint6pjt/.conda/bin/python' requires the ipykernel package.\n",
      "\u001b[1;31mRun the following command to install 'ipykernel' into the Python environment. \n",
      "\u001b[1;31mCommand: 'conda install -p /Users/cesarchaparro/Documents/Sprint6pjt/.conda ipykernel --update-deps --force-reinstall'"
     ]
    }
   ],
   "source": [
    "# histogram to visualize groups by 'type' of car compared with the 'fuel' they use and the count added up for each one\n",
    "fig = px.histogram(new_df, x=\"type\", color='fuel') \n",
    "fig.show()"
   ]
  },
  {
   "cell_type": "markdown",
   "metadata": {},
   "source": [
    "VIUALIZATION #3: Histogram where you can see the distribution of types of cars depending on their fuel. You can click on the colors you want, is a multiple selecion, to visualize the graph for those variables. It is obvious that the majority of cars are fueled by gas."
   ]
  },
  {
   "cell_type": "markdown",
   "metadata": {},
   "source": [
    "***"
   ]
  },
  {
   "cell_type": "markdown",
   "metadata": {},
   "source": [
    "### 5. SUMMARY AND CONCLUSIONS"
   ]
  },
  {
   "cell_type": "markdown",
   "metadata": {},
   "source": [
    "##### After the analsys performed I can conclude that the following hypotesis has been demonstrated:\n",
    "\n",
    "##### 1. Cars with high odometer are not necessariry old cars, there is a range of years, 1990 to 2010, where cars have the most amount of kilometers run.  Therefore, they are more used than other years.\n",
    "##### 2. The odometer is not a crucial factor to determine a good price for a car. Price is determined by other parameters together.\n",
    "    \n",
    "##### - Cars that are from 1990 to 2010 years have the most amount of km run (highest values on odometer).\n",
    "##### - Top 4 types of cars with best condition to sell are: SUV, sedan, pipckup and truck.\n",
    "##### - Top 4 types of cars run by gas are: SUV, sedan, pickup and truck.\n",
    "##### - Top types of cars run by diesel are: truck and pickup.\n",
    "##### - Top types of cars run by hybrid are: sedan and hatchback.\n",
    "##### - Top types of cars run electric are: sedan, truck and hatchback.\n",
    "\n",
    "##### Most cars are fueled by gas.\n",
    "##### Majority of cars are km. 0.\n",
    "##### Most cars are automatic.\n",
    "\n",
    "\n"
   ]
  },
  {
   "cell_type": "markdown",
   "metadata": {},
   "source": [
    "--END OF PROJECT--"
   ]
  }
 ],
 "metadata": {
  "kernelspec": {
   "display_name": "base",
   "language": "python",
   "name": "python3"
  },
  "language_info": {
   "codemirror_mode": {
    "name": "ipython",
    "version": 3
   },
   "file_extension": ".py",
   "mimetype": "text/x-python",
   "name": "python",
   "nbconvert_exporter": "python",
   "pygments_lexer": "ipython3",
   "version": "3.11.8"
  }
 },
 "nbformat": 4,
 "nbformat_minor": 2
}
